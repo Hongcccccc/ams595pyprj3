{
  "cells": [
    {
      "cell_type": "markdown",
      "metadata": {
        "id": "xq__bChjD04e"
      },
      "source": [
        "# Python Assignment 3"
      ]
    },
    {
      "cell_type": "markdown",
      "source": [
        "⏱⏱⏱**Due: 11/02/2023 11:59 PM** ⏱⏱⏱\n",
        "\n",
        "Please submit your notebook files and upload them to your Git repository. Don't forget to include a link to your Git repository when submitting this file on Brightspace. **Please include all outputs in your notebook, including plots, printouts, etc..**\n",
        "\n",
        "Collaboration is permitted and encouraged; however, it's essential to independently produce and submit your own work. If you collaborate with others, please ensure that you provide their names in the designated section.\n",
        "\n",
        "Collaborators:_____"
      ],
      "metadata": {
        "id": "y7j2V0UDMYLG"
      }
    },
    {
      "cell_type": "markdown",
      "metadata": {
        "id": "SUS30Ew9D04n"
      },
      "source": [
        "##**For Questions 2a and 2b, you can choose one of them to complete, if you completed both, only Questions 2a will be graded.**\n",
        "\n",
        "**This assignment is out of 150 points; surplus points can be applied to other assignments (including Matlab and C/C++). However, it cannot be applied to your final project grade, and your assignment grade will not excced 75% of your total grade.**"
      ]
    },
    {
      "cell_type": "markdown",
      "source": [
        "## 1. Good presentation of your code and outputs; submitting your files to Github (10 pts)"
      ],
      "metadata": {
        "id": "KR0Fl4yAQYad"
      }
    },
    {
      "cell_type": "markdown",
      "source": [
        "Ensure thorough and clear comments within your code to explain its functionality.\n",
        "\n",
        "Enhance your plots by adding titles, legends, and axis labels where appropriate to provide clarity.\n",
        "\n",
        "If necessary, employ LaTex notation to present mathematical explanations within the notebook.\n",
        "\n",
        "Divide your code into multiple blocks or cells in Jupyter Notebook and provide descriptive explanations for each block to improve readability.\n",
        "\n",
        "As part of your submission, **include the notebook files and upload them to your Git repository. Additionally, remember to provide a link to your Git repository when submitting the files on Brightspace.** Do not submit a compressed file (.rar, .zip, etc..), submit files separately.\n",
        "\n",
        "If you are tasked with implementing a numerical algorithm, it is expected that you would not rely on pre-existing methods. For example, if you were asked to solve $Ax=b$, you should write your own program to solve, not just by calling numpy.linalg.solve.\n",
        "\n"
      ],
      "metadata": {
        "id": "9WPZWhYQkptT"
      }
    },
    {
      "cell_type": "markdown",
      "source": [
        "## 2a. Numerical Integration (30 pts)"
      ],
      "metadata": {
        "id": "U5SL2j0sqnAJ"
      }
    },
    {
      "cell_type": "markdown",
      "source": [
        "For a domain discretized into $N$ equally spaced panels:\n",
        "$$\n",
        "\\Delta x=\\frac{b-a}{N}.\n",
        "$$\n",
        "The approximation to the integral is\n",
        "$$\\begin{aligned}\n",
        "\\int_a^b f(x) d x & \\approx \\frac{\\Delta x}{2} \\sum_{k=1}^N\\left(f\\left(x_{k-1}\\right)+f\\left(x_k\\right)\\right) \\\\\n",
        "& =\\frac{\\Delta x}{2}\\left(f\\left(x_0\\right)+2 f\\left(x_1\\right)+2 f\\left(x_2\\right)+2 f\\left(x_3\\right)+\\cdots+2 f\\left(x_{N-1}\\right)+f\\left(x_N\\right)\\right) \\\\\n",
        "& =\\Delta x\\left(\\sum_{k=1}^{N-1} f\\left(x_k\\right)+\\frac{f\\left(x_N\\right)+f\\left(x_0\\right)}{2}\\right) .\n",
        "\\end{aligned}$$\n",
        "This is the trapezoid rule scheme.\n",
        "\n",
        "\n",
        "Given the function $f(x) = 3x^2 + 2x +2$, your tasks are:\n",
        "\n",
        "1. Carry out the integration symbolically using the SymPy library. Output the result (i.e. print out the result).\n",
        "2. Implement the trapezoid rule to estimate the integral $\\int_{-4}^6 f(x) dx$ using the following values of $N = 10, 20, 40, 80, 160, 320, 640, 1280$. Output the results (i.e. print out the results).\n",
        "3. Plot the absolute error (absolute difference between the numerical approximation and the SymPy result) against N.\n",
        "\n",
        "\n",
        "\n"
      ],
      "metadata": {
        "id": "OxwdE468rNAR"
      }
    },
    {
      "cell_type": "code",
      "source": [
        "import sympy as sp\n",
        "import numpy as np\n",
        "import matplotlib.pyplot as plt\n",
        "\n",
        "# Define the symbolic variable\n",
        "x = sp.symbols('x')\n",
        "\n",
        "# Define the function\n",
        "f = 3*x**2 + 2*x + 2\n",
        "\n",
        "# Symbolic integration using SymPy\n",
        "integral_exact = sp.integrate(f, (x, -4, 6))\n",
        "\n",
        "print(\"Symbolic integration result:\", integral_exact)\n",
        "\n",
        "# Implement the trapezoid rule\n",
        "def trapezoid_rule(N):\n",
        "    a = -4\n",
        "    b = 6\n",
        "    delta_x = (b - a) / N\n",
        "    x_values = np.linspace(a, b, N + 1)\n",
        "    sum_terms = [f.subs(x, x_values[0]) + f.subs(x, x_values[N])]\n",
        "    sum_terms.extend([2 * f.subs(x, x_values[i]) for i in range(1, N)])\n",
        "    integral_approx = (delta_x / 2) * sum(sum_terms)\n",
        "    return integral_approx\n",
        "\n",
        "# Values of N to use\n",
        "N_values = [10, 20, 40, 80, 160, 320, 640, 1280]\n",
        "\n",
        "# Calculate and print the trapezoid rule approximations\n",
        "approximations = []\n",
        "for N in N_values:\n",
        "    integral_approx = trapezoid_rule(N)\n",
        "    approximations.append(integral_approx)\n",
        "    print(f\"Approximation for N={N}: {integral_approx}\")\n",
        "\n",
        "# Calculate absolute errors\n",
        "absolute_errors = [abs(approx - integral_exact) for approx in approximations]\n",
        "\n",
        "# Plot the absolute errors\n",
        "plt.figure()\n",
        "plt.plot(N_values, absolute_errors, marker='o')\n",
        "plt.yscale('log')\n",
        "plt.xlabel('N (Number of Panels)')\n",
        "plt.ylabel('Absolute Error (log scale)')\n",
        "plt.title('Absolute Error vs N')\n",
        "plt.grid(True)\n",
        "plt.show()\n"
      ],
      "metadata": {
        "colab": {
          "base_uri": "https://localhost:8080/",
          "height": 628
        },
        "id": "79NvOAfjIwWg",
        "outputId": "b2d1eeab-aca8-4878-8caf-1b2baeca2d59"
      },
      "execution_count": null,
      "outputs": [
        {
          "output_type": "stream",
          "name": "stdout",
          "text": [
            "Symbolic integration result: 320\n",
            "Approximation for N=10: 325.000000000000\n",
            "Approximation for N=20: 321.250000000000\n",
            "Approximation for N=40: 320.312500000000\n",
            "Approximation for N=80: 320.078125000000\n",
            "Approximation for N=160: 320.019531250000\n",
            "Approximation for N=320: 320.004882812500\n",
            "Approximation for N=640: 320.001220703125\n",
            "Approximation for N=1280: 320.000305175781\n"
          ]
        },
        {
          "output_type": "display_data",
          "data": {
            "text/plain": [
              "<Figure size 640x480 with 1 Axes>"
            ],
            "image/png": "[encoded data removed]"
          },
          "metadata": {}
        }
      ]
    },
    {
      "cell_type": "markdown",
      "source": [
        "## 2b. Numerical Differentiation (30 pts)"
      ],
      "metadata": {
        "id": "uzMa1xSEwhe3"
      }
    },
    {
      "cell_type": "markdown",
      "source": [
        "Your tasks:\n",
        "1. Find the closed form expression of $f_{xy}(x,y)$, i.e. $\\frac{d^2}{dxdy}f(x,y)$, for $f(x,y) = \\left(sin^2\\left(x\\right)e^xcos(y)\\right)$ using `sympy`. Output the result.\n",
        "2. Find $f_{xy}(2,3)$ with `sympy` and take 15 significant digits, use it as the \"groud truth solution\". Output the result.\n",
        "3. Approximate $f_{xy}(2,3)$ using central difference approximation for the following values of $h = 0.1, 0.01, 0.001, 0.0001$. Output the results.\n",
        "4. Plot the absolute error (absolute difference between the numerical approximation and the SymPy result) against the step size $h$. `plt.gca().invert_xaxis() ` might help.\n",
        "\n",
        "Recall from the lecture:\n",
        "$$f_{x y}(x, y) \\approx \\frac{f(x+h, y+k)-f(x+h, y-k)-f(x-h, y+k)+f(x-h, y-k)}{4 h k}.$$\n",
        "For simplicity, we set $k = h$."
      ],
      "metadata": {
        "id": "FoA2lb0VxDk4"
      }
    },
    {
      "cell_type": "code",
      "source": [],
      "metadata": {
        "id": "qNjTebIUIw92"
      },
      "execution_count": null,
      "outputs": []
    },
    {
      "cell_type": "markdown",
      "source": [
        "## 3. Pandas I (15 pts)"
      ],
      "metadata": {
        "id": "aCgIDqeLBPjj"
      }
    },
    {
      "cell_type": "markdown",
      "source": [
        "1. Create a 3x4 (3 rows by 4 columns) pandas DataFrame with the columns named after the following Long Island towns: Hempstead, Babylon, Islip, and Brookhaven. The rows represent 'Population in 2099', 'Population in 2300', 'Population in 2400'. Fill each of the 12 cells in the DataFrame with a random integer from 1000 to 10000, inclusive. `np.random.randint()` might be helpful.\n",
        "For Example:\n",
        "\n",
        "```\n",
        "                    Hempstead  Babylon  Islip  Brookhaven\n",
        "Population in 2099       2931     8043   8414        8661\n",
        "Population in 2300       5444     9227   7393        8007\n",
        "Population in 2400       1660     7977   4730        2940\n",
        "```\n",
        "\n",
        "\n",
        "\n",
        "2. Output the following:\n",
        "  - The entire DataFrame.\n",
        "  - The value in the cell of row #1 (indexing starts with 0) under the Hempstead column.\n",
        "\n",
        "3. Add a new column named Riverhead. Populate this column with the sum of the respective row values from the Islip and Brookhaven columns. Output the entire DataFrame again."
      ],
      "metadata": {
        "id": "O1w1avrtBYD5"
      }
    },
    {
      "cell_type": "code",
      "source": [
        "import pandas as pd\n",
        "import numpy as np\n",
        "\n",
        "# Create a 3x4 DataFrame with random integers\n",
        "towns = ['Hempstead', 'Babylon', 'Islip', 'Brookhaven']\n",
        "years = ['Population in 2099', 'Population in 2300', 'Population in 2400']\n",
        "\n",
        "data = np.random.randint(1000, 10001, size=(3, 4))\n",
        "df = pd.DataFrame(data, columns=towns, index=years)\n",
        "\n",
        "# Output the entire DataFrame\n",
        "print(\"The entire DataFrame:\")\n",
        "print(df)\n",
        "\n",
        "# Output the value in the cell of row #1 under the Hempstead column\n",
        "cell_value = df.at['Population in 2300', 'Hempstead']\n",
        "print(\"\\nThe value in the cell of row #1 under the Hempstead column:\", cell_value)\n",
        "\n",
        "# Add a new column named Riverhead\n",
        "df['Riverhead'] = df['Islip'] + df['Brookhaven']\n",
        "\n",
        "# Output the entire DataFrame with the new Riverhead column\n",
        "print(\"\\nThe DataFrame with the Riverhead column:\")\n",
        "print(df)\n"
      ],
      "metadata": {
        "colab": {
          "base_uri": "https://localhost:8080/"
        },
        "id": "vMdvDEvoIx2i",
        "outputId": "c9cf9d26-5e65-4e7a-8716-9287ffeb41ce"
      },
      "execution_count": null,
      "outputs": [
        {
          "output_type": "stream",
          "name": "stdout",
          "text": [
            "The entire DataFrame:\n",
            "                    Hempstead  Babylon  Islip  Brookhaven\n",
            "Population in 2099       2518     1954   4836        2073\n",
            "Population in 2300       8067     8838   2092        3450\n",
            "Population in 2400       3562     5800   6263        4219\n",
            "\n",
            "The value in the cell of row #1 under the Hempstead column: 8067\n",
            "\n",
            "The DataFrame with the Riverhead column:\n",
            "                    Hempstead  Babylon  Islip  Brookhaven  Riverhead\n",
            "Population in 2099       2518     1954   4836        2073       6909\n",
            "Population in 2300       8067     8838   2092        3450       5542\n",
            "Population in 2400       3562     5800   6263        4219      10482\n"
          ]
        }
      ]
    },
    {
      "cell_type": "markdown",
      "source": [
        "## 4. Pandas II (15 pts)"
      ],
      "metadata": {
        "id": "WqHDjQC-KLjo"
      }
    },
    {
      "cell_type": "markdown",
      "source": [
        "0. Download the cvs file that comes with this assignment, and read it into a dataframe. You can also download this [csv file](https://media.githubusercontent.com/media/datablist/sample-csv-files/main/files/customers/customers-100.csv) with this link.\n",
        "1. Arrange the data in alphabetical order based on the last name. Display the first few rows.\n",
        "2. Count the number of customers whose subscription date is in 2021 (2021-01-01 to 2021-12-31). Report this number (e.g. print)."
      ],
      "metadata": {
        "id": "w6kHh8BENzHk"
      }
    },
    {
      "cell_type": "code",
      "source": [
        "import pandas as pd\n",
        "\n",
        "# Replace 'your_file.csv' with the actual file path\n",
        "file_path = 'https://media.githubusercontent.com/media/datablist/sample-csv-files/main/files/customers/customers-100.csv'\n",
        "\n",
        "# Read the CSV file into a DataFrame\n",
        "df = pd.read_csv(file_path)\n",
        "\n",
        "# Sort the data by last name (assuming 'Last Name' is the column name)\n",
        "df.sort_values(by='Last Name', inplace=True)\n",
        "\n",
        "# Display the first few rows of the sorted DataFrame\n",
        "print(\"First few rows sorted by last name:\")\n",
        "print(df.head())\n",
        "\n",
        "# Count the number of customers with a subscription date in 2021\n",
        "start_date = '2021-01-01'\n",
        "end_date = '2021-12-31'\n",
        "mask = (df['Subscription Date'] >= start_date) & (df['Subscription Date'] <= end_date)\n",
        "count_2021_subscribers = df[mask].shape[0]\n",
        "\n",
        "print(\"\\nNumber of customers with a subscription date in 2021:\", count_2021_subscribers)\n"
      ],
      "metadata": {
        "colab": {
          "base_uri": "https://localhost:8080/"
        },
        "id": "WvMkfGM9IyYu",
        "outputId": "7d9e0bc6-609c-4680-c109-0706cca85911"
      },
      "execution_count": null,
      "outputs": [
        {
          "output_type": "stream",
          "name": "stdout",
          "text": [
            "First few rows sorted by last name:\n",
            "    Index      Customer Id First Name Last Name                Company  \\\n",
            "67     68  a014Ec1b9FccC1E        Tom  Alvarado    Donaldson-Dougherty   \n",
            "96     97  CeD220bdAaCfaDf       Lynn  Atkinson  Ware, Burns and Oneal   \n",
            "92     93  aAb6AFc7AfD0fF3     Collin     Ayers          Lamb-Peterson   \n",
            "0       1  DD37Cf93aecA6Dc     Sheryl    Baxter        Rasmussen Group   \n",
            "15     16  8cad0b4CBceaeec    Miranda   Beasley     Singleton and Sons   \n",
            "\n",
            "                City    Country             Phone 1                Phone 2  \\\n",
            "67  South Sophiaberg   Kiribati  (585)606-2980x2258      730-797-3594x5614   \n",
            "96      New Bradview  Sri Lanka     +1-846-706-2218           605.413.3198   \n",
            "92      South Lonnie   Anguilla    404-645-5351x012  001-257-582-8850x8516   \n",
            "0       East Leonard      Chile        229.077.5154       397.884.0519x718   \n",
            "15      Desireeshire       Oman    540.085.3135x185  +1-600-462-6432x21881   \n",
            "\n",
            "                            Email Subscription Date  \\\n",
            "67  nicholsonnina@montgomery.info        2020-08-18   \n",
            "96              vkemp@ferrell.com        2021-07-10   \n",
            "92       dudleyemily@gonzales.biz        2021-06-29   \n",
            "0        zunigavanessa@smith.info        2020-08-24   \n",
            "15        vduncan@parks-hardy.com        2022-04-12   \n",
            "\n",
            "                       Website  \n",
            "67     http://odom-massey.com/  \n",
            "96  https://novak-allison.com/  \n",
            "92        http://www.ruiz.com/  \n",
            "0   http://www.stephenson.com/  \n",
            "15          http://acosta.org/  \n",
            "\n",
            "Number of customers with a subscription date in 2021: 43\n"
          ]
        }
      ]
    },
    {
      "cell_type": "markdown",
      "source": [
        "## 5. LU decomposition (50 + 30 pts)\n"
      ],
      "metadata": {
        "id": "aBpXtK8VvApb"
      }
    },
    {
      "cell_type": "markdown",
      "source": [
        "Part A (50 points)\n",
        "1. Write a function `LUdecomposition()` that takes as input a matrix $A\\in \\mathbb{R}^{n \\times n}$. Perform Gaussian Elimination to have this function return two matrices $L$ and $U$ such that $A=LU$.\n",
        "2. Your function should raise any relevant errors, for example, raise an error if a pure LU decomposition does not exist for $A$ (meaning that you have to perform pivoting, i.e., permutation of rows).\n",
        "3. Create several random matrices for the purpose of testing your function. Obtain the $L$ and $U$ matrices, and for each random matrix obtain its L and U matrices and perform a matrix multiplication (`np.matmul()`) to determine whether the outcome closely resembles the original matrix $A$, allowing for slight differences attributable to precision errors.\n",
        "\n",
        "\n",
        "Note: LU decomposition with Gaussian elimination should be covered in your undergraduate linear algebra class. It is also covered in AMS 510. If you do not know how, this 10 minute [video](https://www.youtube.com/watch?v=UlWcofkUDDU&ab_channel=Mathispower4u) explains it very well.\n",
        "\n",
        "Part B (30 bonus points)\n",
        "4. Not all square matrices have a pure LU decomposition. However, PLU decomposition always exists. Write another function `pivoting()` that takes as input a matrix $A$ and return the permutation/pivoting matrix $P$ such that $PA$ always has a pure LU decomposition.\n",
        "5. Find an example $A$ for which `LUdecomposition()` raises an error. Then, use `pivoting()` to find $P$, and find the pure LU decomposition of $PA$. Verify that indeed $PA = LU$ with matrix multiplication (`np.matmul()`).\n",
        "\n",
        "\n",
        "Hint: Please do not print out a giant matrix and visually examine the outcomes. Think of a way to verify your results and output a boolean value.\n"
      ],
      "metadata": {
        "id": "ryafNieevrgZ"
      }
    },
    {
      "cell_type": "code",
      "source": [
        "import numpy as np\n",
        "\n",
        "def LUdecomposition(A):\n",
        "    n = A.shape[0]\n",
        "    L = np.zeros((n, n))\n",
        "    U = np.zeros((n, n))\n",
        "\n",
        "    for k in range(n):\n",
        "        L[k][k] = 1  # Diagonal of L is set to 1\n",
        "        for j in range(k, n):\n",
        "            U[k][j] = A[k][j]\n",
        "            for i in range(k):\n",
        "                U[k][j] -= L[k][i] * U[i][j]\n",
        "\n",
        "        for i in range(k + 1, n):\n",
        "            L[i][k] = A[i][k]\n",
        "            for j in range(k):\n",
        "                L[i][k] -= L[i][j] * U[j][k]\n",
        "            L[i][k] /= U[k][k]\n",
        "\n",
        "    return L, U\n",
        "\n",
        "def pivoting(A):\n",
        "    n = A.shape[0]\n",
        "    P = np.eye(n)\n",
        "    for k in range(n):\n",
        "        max_index = np.argmax(np.abs(A[k:, k])) + k\n",
        "        if k != max_index:\n",
        "            P[[k, max_index]] = P[[max_index, k]]\n",
        "            A[[k, max_index]] = A[[max_index, k]]\n",
        "    return P\n",
        "\n",
        "def verify_decomposition(A, L, U):\n",
        "    return np.allclose(A, np.dot(L, U))\n",
        "\n",
        "# Part A\n",
        "for _ in range(3):  # Generate and test 3 random matrices\n",
        "    A = np.random.rand(4, 4)  # Change the size as needed\n",
        "    L, U = LUdecomposition(A)\n",
        "    result = verify_decomposition(A, L, U)\n",
        "    print(f\"LU Decomposition verification result: {result}\")\n",
        "\n",
        "# Part B\n",
        "A = np.array([[0, 1], [1, 0]])  # Example where LU decomposition raises an error\n",
        "try:\n",
        "    L, U = LUdecomposition(A)\n",
        "except Exception as e:\n",
        "    print(\"Error:\", e)\n",
        "\n",
        "P = pivoting(A)\n",
        "PA = np.dot(P, A)\n",
        "L, U = LUdecomposition(PA)\n",
        "result = verify_decomposition(PA, L, U)\n",
        "print(f\"PA = LU verification result: {result}\")\n"
      ],
      "metadata": {
        "colab": {
          "base_uri": "https://localhost:8080/"
        },
        "id": "Idnqm0oyNKAI",
        "outputId": "37b18042-70d2-4bc3-ebc5-4a2d67be2784"
      },
      "execution_count": 4,
      "outputs": [
        {
          "output_type": "stream",
          "name": "stdout",
          "text": [
            "LU Decomposition verification result: True\n",
            "LU Decomposition verification result: True\n",
            "LU Decomposition verification result: True\n",
            "PA = LU verification result: False\n"
          ]
        },
        {
          "output_type": "stream",
          "name": "stderr",
          "text": [
            "<ipython-input-4-0fd03b7e1586>:19: RuntimeWarning: divide by zero encountered in double_scalars\n",
            "  L[i][k] /= U[k][k]\n"
          ]
        }
      ]
    },
    {
      "cell_type": "markdown",
      "source": [
        "Fact: LU and PLU decompositions are not unique."
      ],
      "metadata": {
        "id": "QlP_giLsQRPM"
      }
    },
    {
      "cell_type": "markdown",
      "source": [
        "## 6. Markov Chain (30 pts)"
      ],
      "metadata": {
        "id": "X_4ITuoU53KF"
      }
    },
    {
      "cell_type": "markdown",
      "source": [
        "**BACKGROUND:** Consider a Markov chain transition matrix $P$ on a set of $n$ states, where $P_{i j}$ corresponds to the probability $\\left(0 \\leq P_{i j} \\leq 1\\right)$ to go from state $i$ to the state $j$, and each row is normalized so that\n",
        "$$\n",
        "\\sum_{j=1}^n P_{i j}=1 .\n",
        "$$\n",
        "\n",
        "Let $p$ be a size- $n$ vector composed of the probability distribution over the $n$ states, where\n",
        "$$\n",
        "\\sum_{j=1}^n p_j=1 .\n",
        "$$\n",
        "\n",
        "The transition rule corresponding to the transition matrix $P$ is $\\hat{p}=P^T p$, where $\\hat{p}$ corresponds to a new probability distribution and\n",
        "$$\n",
        "\\sum_{j=1}^n \\hat{p}_j=1 .\n",
        "$$\n",
        "TASK: Write a program that works with 5 states `only use the numpy library`. In particular,\n",
        "0. Fix the random seed to be the last digit of your id: `numpy.random.seed()`.\n",
        "\n",
        "1. Construct a random $5 \\times 5$ matrix $P$, and normalize each row so that\n",
        "$$\n",
        "\\sum_{j=1}^5 P_{i j}=1 .\n",
        "$$\n",
        "\n",
        "2. Construct a random size-5 vector $p$ and normalize it so that\n",
        "$$\n",
        "\\sum_{j=1}^5 p_j=1 .\n",
        "$$\n",
        "Apply the transition rule 50 times to obtain $p_{50}$.\n",
        "3. Compute the eigenvector $v$ of $P^T$ corresponding to the eigenvalue 1 (and numerically, the eigenvalue closest to $1)$, and then scale the eigenvector so that\n",
        "$$\n",
        "\\sum_{j=1}^5 v_j=1 .\n",
        "$$\n",
        "This scaled eigenvector is known as the stationary distribution.\n",
        "\n",
        "4. Compute the component wise difference between $p_{50}$ and the stationary distribution. Do they match with each other within $1 \\mathrm{e}-5$ ?\n",
        "\n",
        "HINTS: You may find the following functions useful in your implementation:\n",
        "- np.random.rand\n",
        "- np.dot\n",
        "- np.linalg.eig"
      ],
      "metadata": {
        "id": "X2-wBoxIWLQs"
      }
    },
    {
      "cell_type": "code",
      "source": [
        "import numpy as np\n",
        "\n",
        "# Set random seed based on the last digit of your ID\n",
        "np.random.seed(5)  # Change the seed to match your last digit\n",
        "\n",
        "# Step 2: Create a random 5x5 matrix P\n",
        "P = np.random.rand(5, 5)\n",
        "\n",
        "# Step 3: Normalize each row of matrix P\n",
        "P = P / P.sum(axis=1, keepdims=True)\n",
        "\n",
        "# Step 4: Create a random size-5 vector p\n",
        "p = np.random.rand(5)\n",
        "\n",
        "# Step 5: Normalize vector p\n",
        "p = p / p.sum()\n",
        "\n",
        "# Step 6: Apply the transition rule 50 times\n",
        "for _ in range(50):\n",
        "    p = np.dot(P.T, p)\n",
        "\n",
        "# Step 7: Compute the eigenvector corresponding to eigenvalue 1\n",
        "eigenvalues, eigenvectors = np.linalg.eig(P.T)\n",
        "stationary_index = np.argmin(np.abs(eigenvalues - 1))\n",
        "stationary_vector = eigenvectors[:, stationary_index]\n",
        "\n",
        "# Step 8: Scale the stationary vector\n",
        "stationary_vector = stationary_vector / stationary_vector.sum()\n",
        "\n",
        "# Step 9: Compute the component-wise difference and check if they match within 1e-5\n",
        "difference = np.abs(p - stationary_vector)\n",
        "match = np.all(difference < 1e-5)\n",
        "\n",
        "print(\"Component-wise difference between p50 and stationary distribution:\")\n",
        "print(difference)\n",
        "print(\"Do they match within 1e-5? \", match)\n"
      ],
      "metadata": {
        "id": "IMPv0_wrIz8r",
        "colab": {
          "base_uri": "https://localhost:8080/"
        },
        "outputId": "6c07d102-1129-4ff1-ef39-a25e507c2f5b"
      },
      "execution_count": 5,
      "outputs": [
        {
          "output_type": "stream",
          "name": "stdout",
          "text": [
            "Component-wise difference between p50 and stationary distribution:\n",
            "[1.11022302e-16 5.55111512e-17 1.94289029e-16 2.77555756e-17\n",
            " 8.32667268e-17]\n",
            "Do they match within 1e-5?  True\n"
          ]
        }
      ]
    }
  ],
  "metadata": {
    "anaconda-cloud": {},
    "kernelspec": {
      "display_name": "Python 3",
      "name": "python3"
    },
    "language_info": {
      "codemirror_mode": {
        "name": "ipython",
        "version": 3
      },
      "file_extension": ".py",
      "mimetype": "text/x-python",
      "name": "python",
      "nbconvert_exporter": "python",
      "pygments_lexer": "ipython3",
      "version": "3.7.4"
    },
    "colab": {
      "provenance": [],
      "gpuType": "T4"
    }
  },
  "nbformat": 4,
  "nbformat_minor": 0
}